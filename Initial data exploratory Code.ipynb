{
 "cells": [
  {
   "cell_type": "markdown",
   "id": "21516f7c",
   "metadata": {},
   "source": [
    "# Initial Exploratory Analysis to Understand the Data"
   ]
  },
  {
   "cell_type": "code",
   "execution_count": 10,
   "id": "478f7acd",
   "metadata": {},
   "outputs": [
    {
     "name": "stderr",
     "output_type": "stream",
     "text": [
      "/Users/shreyasagar/opt/anaconda3/lib/python3.9/site-packages/IPython/core/interactiveshell.py:3444: DtypeWarning: Columns (10) have mixed types.Specify dtype option on import or set low_memory=False.\n",
      "  exec(code_obj, self.user_global_ns, self.user_ns)\n"
     ]
    },
    {
     "data": {
      "text/html": [
       "<div>\n",
       "<style scoped>\n",
       "    .dataframe tbody tr th:only-of-type {\n",
       "        vertical-align: middle;\n",
       "    }\n",
       "\n",
       "    .dataframe tbody tr th {\n",
       "        vertical-align: top;\n",
       "    }\n",
       "\n",
       "    .dataframe thead th {\n",
       "        text-align: right;\n",
       "    }\n",
       "</style>\n",
       "<table border=\"1\" class=\"dataframe\">\n",
       "  <thead>\n",
       "    <tr style=\"text-align: right;\">\n",
       "      <th></th>\n",
       "      <th>Sr. No</th>\n",
       "      <th>GeoAreaCode</th>\n",
       "      <th>Country</th>\n",
       "      <th>Latitude</th>\n",
       "      <th>Longitude</th>\n",
       "      <th>Year</th>\n",
       "      <th>Goal</th>\n",
       "      <th>Objective</th>\n",
       "      <th>Subcategory</th>\n",
       "      <th>Indicator</th>\n",
       "      <th>Value</th>\n",
       "      <th>ValueType</th>\n",
       "      <th>Value_Mapping</th>\n",
       "    </tr>\n",
       "  </thead>\n",
       "  <tbody>\n",
       "    <tr>\n",
       "      <th>0</th>\n",
       "      <td>1</td>\n",
       "      <td>8</td>\n",
       "      <td>Albania</td>\n",
       "      <td>41.153332</td>\n",
       "      <td>20.168331</td>\n",
       "      <td>2002</td>\n",
       "      <td>1</td>\n",
       "      <td>1</td>\n",
       "      <td>1</td>\n",
       "      <td>111</td>\n",
       "      <td>1.1</td>\n",
       "      <td>PERCENT</td>\n",
       "      <td>1</td>\n",
       "    </tr>\n",
       "    <tr>\n",
       "      <th>1</th>\n",
       "      <td>2</td>\n",
       "      <td>8</td>\n",
       "      <td>Albania</td>\n",
       "      <td>41.153332</td>\n",
       "      <td>20.168331</td>\n",
       "      <td>2005</td>\n",
       "      <td>1</td>\n",
       "      <td>1</td>\n",
       "      <td>1</td>\n",
       "      <td>111</td>\n",
       "      <td>0.6</td>\n",
       "      <td>PERCENT</td>\n",
       "      <td>1</td>\n",
       "    </tr>\n",
       "    <tr>\n",
       "      <th>2</th>\n",
       "      <td>3</td>\n",
       "      <td>8</td>\n",
       "      <td>Albania</td>\n",
       "      <td>41.153332</td>\n",
       "      <td>20.168331</td>\n",
       "      <td>2008</td>\n",
       "      <td>1</td>\n",
       "      <td>1</td>\n",
       "      <td>1</td>\n",
       "      <td>111</td>\n",
       "      <td>0.2</td>\n",
       "      <td>PERCENT</td>\n",
       "      <td>1</td>\n",
       "    </tr>\n",
       "    <tr>\n",
       "      <th>3</th>\n",
       "      <td>4</td>\n",
       "      <td>8</td>\n",
       "      <td>Albania</td>\n",
       "      <td>41.153332</td>\n",
       "      <td>20.168331</td>\n",
       "      <td>2012</td>\n",
       "      <td>1</td>\n",
       "      <td>1</td>\n",
       "      <td>1</td>\n",
       "      <td>111</td>\n",
       "      <td>0.6</td>\n",
       "      <td>PERCENT</td>\n",
       "      <td>1</td>\n",
       "    </tr>\n",
       "    <tr>\n",
       "      <th>4</th>\n",
       "      <td>5</td>\n",
       "      <td>8</td>\n",
       "      <td>Albania</td>\n",
       "      <td>41.153332</td>\n",
       "      <td>20.168331</td>\n",
       "      <td>2014</td>\n",
       "      <td>1</td>\n",
       "      <td>1</td>\n",
       "      <td>1</td>\n",
       "      <td>111</td>\n",
       "      <td>1.0</td>\n",
       "      <td>PERCENT</td>\n",
       "      <td>1</td>\n",
       "    </tr>\n",
       "  </tbody>\n",
       "</table>\n",
       "</div>"
      ],
      "text/plain": [
       "   Sr. No  GeoAreaCode  Country   Latitude  Longitude  Year  Goal  Objective  \\\n",
       "0       1            8  Albania  41.153332  20.168331  2002     1          1   \n",
       "1       2            8  Albania  41.153332  20.168331  2005     1          1   \n",
       "2       3            8  Albania  41.153332  20.168331  2008     1          1   \n",
       "3       4            8  Albania  41.153332  20.168331  2012     1          1   \n",
       "4       5            8  Albania  41.153332  20.168331  2014     1          1   \n",
       "\n",
       "   Subcategory  Indicator Value ValueType  Value_Mapping  \n",
       "0            1        111   1.1   PERCENT              1  \n",
       "1            1        111   0.6   PERCENT              1  \n",
       "2            1        111   0.2   PERCENT              1  \n",
       "3            1        111   0.6   PERCENT              1  \n",
       "4            1        111   1.0   PERCENT              1  "
      ]
     },
     "execution_count": 10,
     "metadata": {},
     "output_type": "execute_result"
    }
   ],
   "source": [
    "import pandas as pd\n",
    "\n",
    "# Load your data\n",
    "data = pd.read_csv('/Users/shreyasagar/Desktop/Shreya/SEM 4/Dataset/Data.csv')\n",
    "data.head()"
   ]
  },
  {
   "cell_type": "code",
   "execution_count": 11,
   "id": "1a1e2502",
   "metadata": {},
   "outputs": [
    {
     "name": "stdout",
     "output_type": "stream",
     "text": [
      "<class 'pandas.core.frame.DataFrame'>\n",
      "RangeIndex: 491255 entries, 0 to 491254\n",
      "Data columns (total 13 columns):\n",
      " #   Column         Non-Null Count   Dtype  \n",
      "---  ------         --------------   -----  \n",
      " 0   Sr. No         491255 non-null  int64  \n",
      " 1   GeoAreaCode    491255 non-null  int64  \n",
      " 2   Country        488009 non-null  object \n",
      " 3   Latitude       488009 non-null  float64\n",
      " 4   Longitude      488009 non-null  float64\n",
      " 5   Year           491255 non-null  int64  \n",
      " 6   Goal           491255 non-null  int64  \n",
      " 7   Objective      491255 non-null  int64  \n",
      " 8   Subcategory    491255 non-null  int64  \n",
      " 9   Indicator      491255 non-null  int64  \n",
      " 10  Value          464999 non-null  object \n",
      " 11  ValueType      491255 non-null  object \n",
      " 12  Value_Mapping  491255 non-null  int64  \n",
      "dtypes: float64(2), int64(8), object(3)\n",
      "memory usage: 48.7+ MB\n",
      "None\n"
     ]
    }
   ],
   "source": [
    "# Check data types and null values\n",
    "print(data.info())\n"
   ]
  },
  {
   "cell_type": "code",
   "execution_count": 12,
   "id": "73cf2746",
   "metadata": {},
   "outputs": [
    {
     "name": "stdout",
     "output_type": "stream",
     "text": [
      "              Sr. No    GeoAreaCode       Latitude      Longitude  \\\n",
      "count  491255.000000  491255.000000  488009.000000  488009.000000   \n",
      "mean   245628.000000     429.510262      16.844363      14.499934   \n",
      "std    141813.247583     252.425607      24.352451      68.750829   \n",
      "min         1.000000       4.000000     -54.429579    -175.198242   \n",
      "25%    122814.500000     212.000000      -0.023559     -15.310139   \n",
      "50%    245628.000000     426.000000      15.870032      19.503304   \n",
      "75%    368441.500000     643.000000      38.963745      46.199616   \n",
      "max    491255.000000     894.000000      71.706936     179.414413   \n",
      "\n",
      "                Year           Goal      Objective    Subcategory  \\\n",
      "count  491255.000000  491255.000000  491255.000000  491255.000000   \n",
      "mean     2011.938476       8.892974       6.207322       1.230102   \n",
      "std         6.224858       7.145471       4.596973       0.508103   \n",
      "min      2000.000000       1.000000       1.000000       1.000000   \n",
      "25%      2007.000000       2.000000       2.000000       1.000000   \n",
      "50%      2013.000000       7.000000       5.000000       1.000000   \n",
      "75%      2017.000000      17.000000      11.000000       1.000000   \n",
      "max      2022.000000      17.000000      19.000000       4.000000   \n",
      "\n",
      "           Indicator  Value_Mapping  \n",
      "count  491255.000000  491255.000000  \n",
      "mean     5456.220851       3.716587  \n",
      "std      7553.854545       4.256662  \n",
      "min       111.000000       1.000000  \n",
      "25%       221.000000       1.000000  \n",
      "50%       741.000000       1.000000  \n",
      "75%     17111.000000       6.000000  \n",
      "max     17192.000000      16.000000  \n"
     ]
    }
   ],
   "source": [
    "# Summary statistics\n",
    "print(data.describe())\n"
   ]
  },
  {
   "cell_type": "code",
   "execution_count": 13,
   "id": "0f887940",
   "metadata": {},
   "outputs": [
    {
     "name": "stdout",
     "output_type": "stream",
     "text": [
      "Sr. No               0\n",
      "GeoAreaCode          0\n",
      "Country           3246\n",
      "Latitude          3246\n",
      "Longitude         3246\n",
      "Year                 0\n",
      "Goal                 0\n",
      "Objective            0\n",
      "Subcategory          0\n",
      "Indicator            0\n",
      "Value            26256\n",
      "ValueType            0\n",
      "Value_Mapping        0\n",
      "dtype: int64\n"
     ]
    }
   ],
   "source": [
    "# Check and handle missing data\n",
    "print(data.isnull().sum())\n",
    "# Handle missing data (e.g., impute or drop rows/columns)\n"
   ]
  },
  {
   "cell_type": "code",
   "execution_count": 14,
   "id": "5e6f61c0",
   "metadata": {},
   "outputs": [
    {
     "name": "stdout",
     "output_type": "stream",
     "text": [
      "\n",
      "Duplicate rows:\n",
      "Empty DataFrame\n",
      "Columns: [Sr. No, GeoAreaCode, Country, Latitude, Longitude, Year, Goal, Objective, Subcategory, Indicator, Value, ValueType, Value_Mapping]\n",
      "Index: []\n"
     ]
    }
   ],
   "source": [
    "duplicates = data[data.duplicated()]\n",
    "print(\"\\nDuplicate rows:\")\n",
    "print(duplicates)"
   ]
  },
  {
   "cell_type": "code",
   "execution_count": null,
   "id": "e48fefee",
   "metadata": {},
   "outputs": [],
   "source": []
  }
 ],
 "metadata": {
  "kernelspec": {
   "display_name": "Python 3 (ipykernel)",
   "language": "python",
   "name": "python3"
  },
  "language_info": {
   "codemirror_mode": {
    "name": "ipython",
    "version": 3
   },
   "file_extension": ".py",
   "mimetype": "text/x-python",
   "name": "python",
   "nbconvert_exporter": "python",
   "pygments_lexer": "ipython3",
   "version": "3.9.7"
  }
 },
 "nbformat": 4,
 "nbformat_minor": 5
}
